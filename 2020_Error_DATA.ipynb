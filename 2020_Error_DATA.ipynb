{
 "cells": [
  {
   "cell_type": "code",
   "execution_count": 1,
   "metadata": {
    "collapsed": true
   },
   "outputs": [],
   "source": [
    "import csv\n",
    "import matplotlib.pyplot as plt\n",
    "import numpy as np\n",
    "import math"
   ]
  },
  {
   "cell_type": "markdown",
   "metadata": {},
   "source": [
    "0.4 이하 부분 삭제"
   ]
  },
  {
   "cell_type": "code",
   "execution_count": 2,
   "metadata": {
    "collapsed": true
   },
   "outputs": [],
   "source": [
    "def data_over(x1):\n",
    "    for i in range(len(x1)):\n",
    "        if x1[i] < 0.4:\n",
    "            x1[i] = 0\n",
    "      \n",
    "    return x1"
   ]
  },
  {
   "cell_type": "markdown",
   "metadata": {},
   "source": [
    "정규분포 생성"
   ]
  },
  {
   "cell_type": "code",
   "execution_count": 3,
   "metadata": {
    "collapsed": true
   },
   "outputs": [],
   "source": [
    "def normal_distribution(xs, mu, sigma):\n",
    "    sqrt_two_pi = math.sqrt(2 * math.pi)\n",
    "    return (math.exp(-(xs-mu)**2 / 2 / sigma**2) / (sqrt_two_pi * sigma))"
   ]
  },
  {
   "cell_type": "markdown",
   "metadata": {},
   "source": [
    "오류 생성"
   ]
  },
  {
   "cell_type": "code",
   "execution_count": 4,
   "metadata": {
    "collapsed": true
   },
   "outputs": [],
   "source": [
    "def make_error1():\n",
    "    x = [0 for _ in range(484)]\n",
    "    num = 20\n",
    "    mu = 65\n",
    "    sigma = 10\n",
    "    \n",
    "    for i in range(mu - num, mu + num + 1):\n",
    "        x[i] = 0.4 + normal_distribution(i, mu, sigma) + normal_distribution(i, mu, 30)\n",
    "        \n",
    "    \n",
    "    return x\n",
    "\n",
    "def make_error2():\n",
    "    x = [0 for _ in range(484)]\n",
    "    \n",
    "    mu1 = 65\n",
    "    num1 = 50\n",
    "    mu2 = 210\n",
    "    num2 = 40\n",
    "    sigma1 = 7\n",
    "    sigma2 = 10\n",
    "    \n",
    "    for i in range(mu1 - num1, mu1 + num1 + 1):\n",
    "        x[i] = 0.4 + 2.5 * normal_distribution(i, mu1, sigma1) + 0.3*normal_distribution(i, mu1, 20) \n",
    "        \n",
    "    for i in range(mu2 - num2, mu2 + num2 + 1):\n",
    "        x[i] = 0.4 + 0.5 * normal_distribution(i, mu2, sigma2) \n",
    "    \n",
    "    return x\n",
    "\n",
    "def make_error3():\n",
    "    x = [0 for _ in range(484)]\n",
    "    \n",
    "    mu1 = 65\n",
    "    num1 = 60\n",
    "\n",
    "    mu2 = 210\n",
    "    num2 = 50\n",
    " \n",
    "    mu3 = 370\n",
    "    num3 = 20\n",
    "    \n",
    "    sigma1 = 7\n",
    "    sigma2 = 5\n",
    "    sigma3 = 10\n",
    "    \n",
    "    for i in range(mu1 - num1, mu1 + num1 + 1):\n",
    "        x[i] = 0.4 + 5 * normal_distribution(i, mu1, sigma1) + 0.3 * normal_distribution(i, mu1, 30)\n",
    "        \n",
    "    for i in range(mu2 - num2, mu2 + num2 + 1):\n",
    "        x[i] = 0.4 + 2.5 * normal_distribution(i, mu2, sigma2)\n",
    "        \n",
    "    for i in range(mu3 - num3, mu3 + num3 + 1):\n",
    "        x[i] = 0.4 + normal_distribution(i, mu3, sigma3)\n",
    "    \n",
    "    return x"
   ]
  },
  {
   "cell_type": "markdown",
   "metadata": {},
   "source": [
    "오류데이터에 정상데이터 합치기"
   ]
  },
  {
   "cell_type": "code",
   "execution_count": 5,
   "metadata": {
    "collapsed": true
   },
   "outputs": [],
   "source": [
    "def add_data1(x, error):\n",
    "    x_new = []\n",
    "    x = x[:484]\n",
    "\n",
    "    for i in range(len(x)):\n",
    "        x_new.append(float(x[i] + error[i]))\n",
    "    max_value = 0\n",
    "    for i in range(len(x)):\n",
    "        if error[i] != 0 and x_new[i] >= 0.5:\n",
    "            if max_value < x_new[i]:\n",
    "                max_value = x_new[i]\n",
    "    if max_value > 0:\n",
    "        value  = max_value - 0.5\n",
    "        for i in range(len(x)):\n",
    "            if error[i] != 0:\n",
    "                x_new[i] = x_new[i] - value\n",
    "    return x_new\n",
    "\n",
    "def add_data2(x, error):\n",
    "    x_new = []\n",
    "    x = x[:484]\n",
    "    for i in range(len(x)):\n",
    "        x_new.append(float(x[i] + error[i]))\n",
    "    max_value = 0\n",
    "    for i in range(len(x)):\n",
    "        if error[i] != 0 and x_new[i] >= 0.65:\n",
    "            if max_value < x_new[i]:\n",
    "                max_value = x_new[i]\n",
    "    if max_value > 0:\n",
    "        value  = max_value - 0.65\n",
    "        for i in range(len(x)):\n",
    "            if error[i] != 0:\n",
    "                x_new[i] = x_new[i] - value\n",
    "    return x_new\n",
    "\n",
    "def add_data3(x, error):\n",
    "    x_new = []\n",
    "    x = x[:484]\n",
    "\n",
    "    for i in range(len(x)):\n",
    "        x_new.append(float(x[i] + error[i]))\n",
    "    max_value = 0\n",
    "    for i in range(len(x)):\n",
    "        if error[i] != 0 and x_new[i] >= 0.85:\n",
    "            if max_value < x_new[i]:\n",
    "                max_value = x_new[i]\n",
    "    if max_value > 0:\n",
    "        value  = max_value - 0.85\n",
    "        for i in range(len(x)):\n",
    "            if error[i] != 0:\n",
    "                x_new[i] = x_new[i] - value\n",
    "    return x_new"
   ]
  },
  {
   "cell_type": "code",
   "execution_count": 10,
   "metadata": {},
   "outputs": [
    {
     "name": "stderr",
     "output_type": "stream",
     "text": [
      "C:\\Users\\Jihyun\\Anaconda3\\envs\\py35\\lib\\site-packages\\ipykernel_launcher.py:2: DeprecationWarning: 'U' mode is deprecated\n",
      "  \n"
     ]
    },
    {
     "ename": "IndexError",
     "evalue": "list index out of range",
     "output_type": "error",
     "traceback": [
      "\u001b[1;31m---------------------------------------------------------------------------\u001b[0m",
      "\u001b[1;31mIndexError\u001b[0m                                Traceback (most recent call last)",
      "\u001b[1;32m<ipython-input-10-f68540d01b9e>\u001b[0m in \u001b[0;36m<module>\u001b[1;34m()\u001b[0m\n\u001b[0;32m      5\u001b[0m         \u001b[1;31m#데이터 받아오기\u001b[0m\u001b[1;33m\u001b[0m\u001b[1;33m\u001b[0m\u001b[0m\n\u001b[0;32m      6\u001b[0m         \u001b[1;32mfor\u001b[0m \u001b[0mrow\u001b[0m \u001b[1;32min\u001b[0m \u001b[0mdata\u001b[0m\u001b[1;33m:\u001b[0m\u001b[1;33m\u001b[0m\u001b[0m\n\u001b[1;32m----> 7\u001b[1;33m             \u001b[0mx\u001b[0m\u001b[1;33m.\u001b[0m\u001b[0mappend\u001b[0m\u001b[1;33m(\u001b[0m\u001b[0mfloat\u001b[0m\u001b[1;33m(\u001b[0m\u001b[0mrow\u001b[0m\u001b[1;33m[\u001b[0m\u001b[0mi\u001b[0m\u001b[1;33m+\u001b[0m\u001b[1;36m1\u001b[0m\u001b[1;33m]\u001b[0m\u001b[1;33m)\u001b[0m\u001b[1;33m)\u001b[0m\u001b[1;33m\u001b[0m\u001b[0m\n\u001b[0m\u001b[0;32m      8\u001b[0m         \u001b[0mx\u001b[0m\u001b[1;33m.\u001b[0m\u001b[0mpop\u001b[0m\u001b[1;33m(\u001b[0m\u001b[1;36m0\u001b[0m\u001b[1;33m)\u001b[0m\u001b[1;33m\u001b[0m\u001b[0m\n\u001b[0;32m      9\u001b[0m \u001b[1;33m\u001b[0m\u001b[0m\n",
      "\u001b[1;31mIndexError\u001b[0m: list index out of range"
     ]
    }
   ],
   "source": [
    "for i in range(101):\n",
    "    with open(\"fftdataok.csv\", \"rU\") as file:\n",
    "        x = []\n",
    "        data = csv.reader(file)\n",
    "        #데이터 받아오기\n",
    "        for row in data:\n",
    "            x.append(float(row[i+1]))\n",
    "        x.pop(0)\n",
    "     \n",
    "        #error1 = make_error1()\n",
    "        error2 = make_error2()\n",
    "        error3 = make_error3()\n",
    "        #error_data1 = add_data1(x,error1)\n",
    "        error_data2 = add_data2(x, error2)\n",
    "        error_data3 = add_data3(x, error3)\n",
    "        \n",
    "        '''\n",
    "        plt.plot(range(len(error_data1)), error_data1)\n",
    "        plt.ylim(0.4, 1)\n",
    "        plt.show()\n",
    "        plt.plot(range(len(error_data2)), error_data2)\n",
    "        plt.ylim(0.4, 1)\n",
    "        plt.show()\n",
    "        plt.plot(range(len(error_data3)), error_data3)\n",
    "        plt.ylim(0.4, 1)\n",
    "        plt.show()\n",
    "        '''\n",
    "        f = open('error_2.csv','a',newline='')\n",
    "        wr = csv.writer(f)\n",
    "        wr.writerow(error_data2)\n",
    "        f.close()\n",
    "        \n",
    "        f = open('error_3.csv','a',newline='')\n",
    "        wr = csv.writer(f)\n",
    "        wr.writerow(error_data3)\n",
    "        f.close()\n",
    "        "
   ]
  },
  {
   "cell_type": "markdown",
   "metadata": {},
   "source": [
    "TEST 데이터 만들기     "
   ]
  },
  {
   "cell_type": "code",
   "execution_count": 7,
   "metadata": {},
   "outputs": [
    {
     "name": "stderr",
     "output_type": "stream",
     "text": [
      "C:\\Users\\Jihyun\\Anaconda3\\envs\\py35\\lib\\site-packages\\ipykernel_launcher.py:2: DeprecationWarning: 'U' mode is deprecated\n",
      "  \n"
     ]
    },
    {
     "ename": "IndexError",
     "evalue": "list index out of range",
     "output_type": "error",
     "traceback": [
      "\u001b[1;31m---------------------------------------------------------------------------\u001b[0m",
      "\u001b[1;31mIndexError\u001b[0m                                Traceback (most recent call last)",
      "\u001b[1;32m<ipython-input-7-32e217133025>\u001b[0m in \u001b[0;36m<module>\u001b[1;34m()\u001b[0m\n\u001b[0;32m      5\u001b[0m         \u001b[1;31m#데이터 받아오기\u001b[0m\u001b[1;33m\u001b[0m\u001b[1;33m\u001b[0m\u001b[0m\n\u001b[0;32m      6\u001b[0m         \u001b[1;32mfor\u001b[0m \u001b[0mrow\u001b[0m \u001b[1;32min\u001b[0m \u001b[0mdata\u001b[0m\u001b[1;33m:\u001b[0m\u001b[1;33m\u001b[0m\u001b[0m\n\u001b[1;32m----> 7\u001b[1;33m             \u001b[0mx\u001b[0m\u001b[1;33m.\u001b[0m\u001b[0mappend\u001b[0m\u001b[1;33m(\u001b[0m\u001b[0mfloat\u001b[0m\u001b[1;33m(\u001b[0m\u001b[0mrow\u001b[0m\u001b[1;33m[\u001b[0m\u001b[0mi\u001b[0m\u001b[1;33m+\u001b[0m\u001b[1;36m1\u001b[0m\u001b[1;33m]\u001b[0m\u001b[1;33m)\u001b[0m\u001b[1;33m)\u001b[0m\u001b[1;33m\u001b[0m\u001b[0m\n\u001b[0m\u001b[0;32m      8\u001b[0m         \u001b[0mx\u001b[0m\u001b[1;33m.\u001b[0m\u001b[0mpop\u001b[0m\u001b[1;33m(\u001b[0m\u001b[1;36m0\u001b[0m\u001b[1;33m)\u001b[0m\u001b[1;33m\u001b[0m\u001b[0m\n\u001b[0;32m      9\u001b[0m \u001b[1;33m\u001b[0m\u001b[0m\n",
      "\u001b[1;31mIndexError\u001b[0m: list index out of range"
     ]
    }
   ],
   "source": [
    "for i in range(101):\n",
    "    with open(\"fftdataok.csv\", \"rU\") as file:\n",
    "        x = []\n",
    "        data = csv.reader(file)\n",
    "        #데이터 받아오기\n",
    "        for row in data:\n",
    "            x.append(float(row[i+1]))\n",
    "        x.pop(0)\n",
    "     \n",
    "        error1 = make_error1()\n",
    "        error2 = make_error2()\n",
    "        error3 = make_error3()\n",
    "        error_data1 = add_data1(x,error1)\n",
    "        error_data2 = add_data2(x, error2)\n",
    "        error_data3 = add_data3(x, error3)\n",
    "        \n",
    "        '''\n",
    "        plt.plot(range(len(error_data1)), error_data1)\n",
    "        plt.ylim(0.4, 1)\n",
    "        plt.show()\n",
    "        plt.plot(range(len(error_data2)), error_data2)\n",
    "        plt.ylim(0.4, 1)\n",
    "        plt.show()\n",
    "        plt.plot(range(len(error_data3)), error_data3)\n",
    "        plt.ylim(0.4, 1)\n",
    "        plt.show()\n",
    "        '''\n",
    "        f = open('test_error_1.csv','a',newline='')\n",
    "        wr = csv.writer(f)\n",
    "        wr.writerow(error_data1)\n",
    "        f.close()\n",
    "        \n",
    "        f = open('test_error_2.csv','a',newline='')\n",
    "        wr = csv.writer(f)\n",
    "        wr.writerow(error_data2)\n",
    "        f.close()\n",
    "        \n",
    "        f = open('test_error_3.csv','a',newline='')\n",
    "        wr = csv.writer(f)\n",
    "        wr.writerow(error_data3)\n",
    "        f.close()\n",
    "        "
   ]
  },
  {
   "cell_type": "code",
   "execution_count": null,
   "metadata": {
    "collapsed": true
   },
   "outputs": [],
   "source": []
  }
 ],
 "metadata": {
  "kernelspec": {
   "display_name": "Python 3",
   "language": "python",
   "name": "python3"
  },
  "language_info": {
   "codemirror_mode": {
    "name": "ipython",
    "version": 3
   },
   "file_extension": ".py",
   "mimetype": "text/x-python",
   "name": "python",
   "nbconvert_exporter": "python",
   "pygments_lexer": "ipython3",
   "version": "3.5.4"
  }
 },
 "nbformat": 4,
 "nbformat_minor": 2
}
