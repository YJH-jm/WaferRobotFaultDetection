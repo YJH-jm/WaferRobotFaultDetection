{
 "cells": [
  {
   "cell_type": "code",
   "execution_count": null,
   "metadata": {
    "executionInfo": {
     "elapsed": 1688,
     "status": "ok",
     "timestamp": 1622010218885,
     "user": {
      "displayName": "유지현",
      "photoUrl": "",
      "userId": "01154310095318489763"
     },
     "user_tz": -540
    },
    "id": "FKe0urvlCpex"
   },
   "outputs": [],
   "source": [
    "import csv\n",
    "import matplotlib.pyplot as plt\n",
    "import numpy as np\n",
    "import math\n",
    "from sklearn.cluster import KMeans"
   ]
  },
  {
   "cell_type": "code",
   "execution_count": null,
   "metadata": {
    "executionInfo": {
     "elapsed": 272,
     "status": "ok",
     "timestamp": 1622010299024,
     "user": {
      "displayName": "유지현",
      "photoUrl": "",
      "userId": "01154310095318489763"
     },
     "user_tz": -540
    },
    "id": "HiuvnzhCCpe0"
   },
   "outputs": [],
   "source": [
    "def modeling(result):\n",
    "    #clustering\n",
    "    if len(result) == 1: \n",
    "        model = KMeans(n_clusters = 1)\n",
    "    elif len(result) == 2: \n",
    "        model = KMeans(n_clusters = 2)\n",
    "    elif len(result) == 3:\n",
    "        model = KMeans(n_clusters=3)\n",
    "    else:\n",
    "        model = KMeans(n_clusters=4)\n",
    "    model.fit(result)\n",
    "    \n",
    "    centers = model.cluster_centers_\n",
    "    center = []\n",
    "    for i in range(len(centers)): #센터 점 리스트구조로 변형\n",
    "        #center.append([centers[:,0][i], y = centers[:,1][i]])\n",
    "        center.append([centers[:,0][i], centers[:,1][i]])\n",
    "    max_value = center[0][0]\n",
    "    max_index = center\n",
    "    for i in range(len(center)-1):\n",
    "        if center[i+1][0] > max_value:\n",
    "            tmp = center[i]\n",
    "            center[i] = center[i+1]\n",
    "            center[i+1] = center\n",
    "    \n",
    "    #1차 오류인 경우\n",
    "    if center[0][0] < 100 and center[1][0] < 100 and center[2][0] < 100:\n",
    "        answer = 1\n",
    "    "
   ]
  },
  {
   "cell_type": "code",
   "execution_count": null,
   "metadata": {
    "colab": {
     "base_uri": "https://localhost:8080/",
     "height": 280
    },
    "executionInfo": {
     "elapsed": 485,
     "status": "error",
     "timestamp": 1622010304921,
     "user": {
      "displayName": "유지현",
      "photoUrl": "",
      "userId": "01154310095318489763"
     },
     "user_tz": -540
    },
    "id": "tlLJGdTDCpe2",
    "outputId": "4bb7dbbd-109f-4c7f-9ed8-714f20643a11"
   },
   "outputs": [],
   "source": [
    "train_x = []\n",
    "for i in range(100):\n",
    "    with open(\"fftdataok.csv\", \"rU\") as file: #test할 데이터 가지고 오기\n",
    "        data = csv.reader(file)\n",
    "        #데이터 받아오기\n",
    "        x = []\n",
    "        for row in data:\n",
    "            x.append(float(row[i+1]))\n",
    "            \n",
    "        x.pop(0)\n",
    "        x = x[:484]\n",
    "        \n",
    "        result = []\n",
    "        #의미있는 데이터 모으기\n",
    "        for j in range(len(x)):\n",
    "            if x[j] >= 0.4:\n",
    "                result.append([j, x[j]]) \n",
    "        if len(result) == 1: \n",
    "            model = KMeans(n_clusters = 1)\n",
    "        elif len(result) == 2: \n",
    "            model = KMeans(n_clusters = 2)\n",
    "        elif len(result) == 3:\n",
    "            model = KMeans(n_clusters=3)\n",
    "        else:\n",
    "            model = KMeans(n_clusters=4)\n",
    "        model.fit(result)\n",
    "\n",
    "        centers = model.cluster_centers_\n",
    "        print(\"centers : \", centers)\n",
    "        center = []\n",
    "        for i in range(len(centers)): #센터 점 리스트구조로 변형\n",
    "            center.append([centers[:,0][i], centers[:,1][i]])\n",
    "        print(\"cneter  : \", center)\n",
    "        print(\"center[0][0] : \", center[0][0])\n",
    "    \n",
    "        print(\"center[0] : \", center[0])\n",
    "        for i in range(len(center)-1):\n",
    "            for j in range(i+1, len(center)):\n",
    "                if center[i][0] > center[j][0]:\n",
    "                    tmp = center[i]\n",
    "                    print(\"tmp : \", tmp)\n",
    "                    center[i] = center[j]\n",
    "                    center[j] = tmp\n",
    "            print(\"정렬중 : \", center)\n",
    "        print('정렬 : center : ', center)\n",
    "        print(\"---------------------------------------\")\n",
    "        \n",
    "        train = []\n",
    "        print(\"train보기\")\n",
    "        for i in range(len(center)):\n",
    "            train.append(center[i][0])\n",
    "            train.append(center[i][1])\n",
    "            print(\"train : \", train)\n",
    "\n",
    "        train_x.append(train)\n",
    "        print(\"train_x :    \", train_x)"
   ]
  }
 ],
 "metadata": {
  "colab": {
   "collapsed_sections": [],
   "name": "2020_KMEANS_MODELING_TEST.ipynb",
   "provenance": []
  },
  "kernelspec": {
   "display_name": "Python 3",
   "language": "python",
   "name": "python3"
  },
  "language_info": {
   "codemirror_mode": {
    "name": "ipython",
    "version": 3
   },
   "file_extension": ".py",
   "mimetype": "text/x-python",
   "name": "python",
   "nbconvert_exporter": "python",
   "pygments_lexer": "ipython3",
   "version": "3.8.5"
  },
  "toc": {
   "base_numbering": 1,
   "nav_menu": {},
   "number_sections": true,
   "sideBar": true,
   "skip_h1_title": false,
   "title_cell": "Table of Contents",
   "title_sidebar": "Contents",
   "toc_cell": false,
   "toc_position": {},
   "toc_section_display": true,
   "toc_window_display": false
  }
 },
 "nbformat": 4,
 "nbformat_minor": 1
}
